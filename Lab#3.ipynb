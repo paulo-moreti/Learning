{
 "cells": [
  {
   "cell_type": "code",
   "execution_count": null,
   "metadata": {},
   "outputs": [],
   "source": [
    "#LAB #3 - ML EXAMPLES WITH IRIS DATABASE\n",
    "# from GitHub : venky14/Machine-Learning-with-Iris-Dataset"
   ]
  },
  {
   "cell_type": "code",
   "execution_count": null,
   "metadata": {},
   "outputs": [],
   "source": [
    "import numpy as np\n",
    "import pandas as pd \n",
    "from pandas import Series, DataFrame\n",
    "\n",
    "import seaborn as sns\n",
    "import matplotlib.pyplot as plt\n",
    "%matplotlib inline"
   ]
  },
  {
   "cell_type": "code",
   "execution_count": null,
   "metadata": {},
   "outputs": [],
   "source": [
    "iris = pd.read_csv('/home/paulo/Learning/in/Iris.csv')\n",
    "iris.head()"
   ]
  },
  {
   "cell_type": "code",
   "execution_count": null,
   "metadata": {},
   "outputs": [],
   "source": [
    "iris.info()"
   ]
  },
  {
   "cell_type": "code",
   "execution_count": null,
   "metadata": {},
   "outputs": [],
   "source": [
    "#removing unneeded column\n",
    "iris.drop(\"Id\", axis=1, inplace = True)"
   ]
  },
  {
   "cell_type": "code",
   "execution_count": null,
   "metadata": {},
   "outputs": [],
   "source": [
    "iris.head()"
   ]
  },
  {
   "cell_type": "code",
   "execution_count": null,
   "metadata": {},
   "outputs": [],
   "source": [
    "# Some EDA\n",
    "# Scatter Plot : t is an X-Y diagram that shows a relationship between two variables. \n",
    "#It is used to plot data points on a vertical and a horizontal axis. \n",
    "# The purpose is to show how much one variable affects another.\n",
    "fig = iris[iris.Species == 'Iris-setosa'].plot(kind='scatter', x='SepalLengthCm', y='SepalWidthCm', color='orange', label='Setosa')\n",
    "iris[iris.Species == 'Iris-versicolor'].plot(kind='scatter', x='SepalLengthCm', y='SepalWidthCm', color='blue', label='Versicolor', ax=fig)\n",
    "iris[iris.Species == 'Iris-virginica'].plot(kind='scatter', x='SepalLengthCm', y='SepalWidthCm', color='green', label='Virginica', ax=fig)\n",
    "\n",
    "fig.set_xlabel('Sepal Length')\n",
    "fig.set_ylabel('Sepal Width')\n",
    "fig.set_title('Sepal Length Vs Width')\n",
    "\n",
    "fig=plt.gcf()\n",
    "fig.set_size_inches(10, 7)\n",
    "plt.show()"
   ]
  },
  {
   "cell_type": "code",
   "execution_count": null,
   "metadata": {},
   "outputs": [],
   "source": [
    "\n",
    "sns.FacetGrid(iris, hue='Species', size=5)\\\n",
    "   .map(plt.scatter, 'SepalLengthCm', 'SepalWidthCm')\\\n",
    "   .add_legend()"
   ]
  },
  {
   "cell_type": "code",
   "execution_count": null,
   "metadata": {},
   "outputs": [],
   "source": [
    "fig = iris[iris.Species == 'Iris-setosa'].plot(kind='scatter', x='PetalLengthCm', y='PetalWidthCm', color='orange', label='Setosa')\n",
    "iris[iris.Species == 'Iris-versicolor'].plot(kind='scatter', x='PetalLengthCm', y='PetalWidthCm', color='blue', label='Versicolor', ax=fig)\n",
    "iris[iris.Species == 'Iris-virginica'].plot(kind='scatter', x='PetalLengthCm', y='PetalWidthCm', color='green', label='Virginica', ax=fig)\n",
    "\n",
    "fig.set_xlabel('Petal Length')\n",
    "fig.set_ylabel('Petal Width')\n",
    "fig.set_title('Petal Length Vs Width')\n",
    "\n",
    "fig=plt.gcf()\n",
    "fig.set_size_inches(10, 7)\n",
    "plt.show()"
   ]
  },
  {
   "cell_type": "code",
   "execution_count": null,
   "metadata": {},
   "outputs": [],
   "source": [
    "iris.hist(edgecolor='black', linewidth=1.2)\n",
    "fig = plt.gcf()\n",
    "fig.set_size_inches(12,6)\n",
    "plt.show()"
   ]
  },
  {
   "cell_type": "code",
   "execution_count": null,
   "metadata": {},
   "outputs": [],
   "source": [
    "plt.figure(figsize=(15,10))\n",
    "plt.subplot(2,2,1)\n",
    "sns.violinplot(x='Species', y = 'SepalLengthCm', data=iris)\n",
    "plt.subplot(2,2,2)\n",
    "sns.violinplot(x='Species', y = 'SepalWidthCm', data=iris)\n",
    "\n",
    "plt.subplot(2,2,3)\n",
    "sns.violinplot(x='Species', y = 'PetalLengthCm', data=iris)\n",
    "plt.subplot(2,2,4)\n",
    "sns.violinplot(x='Species', y = 'PetalWidthCm', data=iris)"
   ]
  },
  {
   "cell_type": "code",
   "execution_count": null,
   "metadata": {},
   "outputs": [],
   "source": [
    "\n",
    "Now the given problem is a classification problem.. Thus we will be using the classification algorithms to build a model.\n",
    "Classification: Samples belong to two or more classes and we want to learn from already labeled data how to \n",
    "predict the class of unlabeled data\n",
    "Regression: If the desired output consists of one or more continuous variables, then the task is called regression. \n",
    "An example of a regression problem would be the prediction of the length of a salmon as a function of its age and weight.\n",
    "Before we start, we need to clear some ML notations.\n",
    "attributes-->An attribute is a property of an instance that may be used to determine its classification. \n",
    "In the following dataset, the attributes are the petal and sepal length and width. It is also known as Features.\n",
    "Target variable, in the machine learning context is the variable that is or should be the output. \n",
    "Here the target variables are the 3 flower species.\n"
   ]
  },
  {
   "cell_type": "code",
   "execution_count": null,
   "metadata": {},
   "outputs": [],
   "source": [
    "\n",
    "\n",
    "# importing alll the necessary packages to use the various classification algorithms\n",
    "from sklearn.linear_model import LogisticRegression # for Logistic Regression Algorithm\n",
    "from sklearn.cross_validation import train_test_split # to split the dataset for training and testing \n",
    "from sklearn.neighbors import KNeighborsClassifier # KNN classifier\n",
    "from sklearn import svm # for suport vector machine algorithm\n",
    "from sklearn import metrics # for checking the model accuracy\n",
    "from sklearn.tree import DecisionTreeClassifier # for using DTA"
   ]
  },
  {
   "cell_type": "code",
   "execution_count": null,
   "metadata": {},
   "outputs": [],
   "source": [
    "# draws heatmap with input as correlation matrix calculated by iris.corr() \n",
    "plt.figure(figsize=(8,4))\n",
    "sns.heatmap(iris.corr(), annot=True, cmap='cubehelix_r') \n",
    "plt.show()"
   ]
  },
  {
   "cell_type": "code",
   "execution_count": null,
   "metadata": {},
   "outputs": [],
   "source": [
    "Observation---> The Sepal Width and Length are not correlated The Petal Width and Length are highly correlated \n",
    "We will use all the features for training the algorithm and check the accuracy.\n",
    "\n",
    "Then we will use 1 Petal Feature and 1 Sepal Feature to check the accuracy of the algorithm \n",
    "as we are using only 2 features that are not correlated. \n",
    "Thus we can have a variance in the dataset which may help in better accuracy. We will check it later."
   ]
  },
  {
   "cell_type": "code",
   "execution_count": null,
   "metadata": {},
   "outputs": [],
   "source": [
    "Steps To Be followed When Applying an Algorithm\n",
    "\n",
    "Split the dataset into training and testing dataset. \n",
    "The testing dataset is generally smaller than training one as it will help in training the model better.\n",
    "\n",
    "Select any algorithm based on the problem (classification or regression) whatever you feel may be good. \n",
    "Then pass the training dataset to the algorithm to train it. We use the .fit() method \n",
    "Then pass the testing data to the trained algorithm to predict the outcome. \n",
    "We use the .predict() method. We then check the accuracy by passing the predicted outcome\n",
    "and the actual output to the model."
   ]
  },
  {
   "cell_type": "code",
   "execution_count": null,
   "metadata": {},
   "outputs": [],
   "source": [
    "#Splitting The Data into Training And Testing Dataset\n",
    "train, test = train_test_split(iris, test_size=0.3) \n",
    "# our main data split into train and test\n",
    "# the attribute test_size=0.3 splits the data into 70% and 30% ratio. train=70% and test=30%\n",
    "print(train.shape)\n",
    "print(test.shape)"
   ]
  },
  {
   "cell_type": "code",
   "execution_count": null,
   "metadata": {},
   "outputs": [],
   "source": [
    "train_X = train[['SepalLengthCm','SepalWidthCm','PetalLengthCm','PetalWidthCm']] # taking the training data features\n",
    "train_y = train.Species # output of the training data\n",
    "\n",
    "test_X = test[['SepalLengthCm','SepalWidthCm','PetalLengthCm','PetalWidthCm']] # taking test data feature\n",
    "test_y = test.Species # output value of the test data"
   ]
  },
  {
   "cell_type": "code",
   "execution_count": null,
   "metadata": {},
   "outputs": [],
   "source": [
    "train_X.head()"
   ]
  },
  {
   "cell_type": "code",
   "execution_count": null,
   "metadata": {},
   "outputs": [],
   "source": [
    "test_X.head()"
   ]
  },
  {
   "cell_type": "code",
   "execution_count": null,
   "metadata": {},
   "outputs": [],
   "source": [
    "train_y.head()"
   ]
  },
  {
   "cell_type": "code",
   "execution_count": null,
   "metadata": {},
   "outputs": [],
   "source": [
    "# SVM ALGORITHM\n",
    "model = svm.SVC() # select the svm algorithm\n",
    "\n",
    "# we train the algorithm with training data and training output\n",
    "model.fit(train_X, train_y)\n",
    "\n",
    "# we pass the testing data to the stored algorithm to predict the outcome\n",
    "prediction = model.predict(test_X)\n",
    "print('The accuracy of the SVM is: ', metrics.accuracy_score(prediction, test_y)) \n",
    "#we check the accuracy of the algorithm\n",
    "#we pass the predicted output by the model and the actual output\n"
   ]
  },
  {
   "cell_type": "code",
   "execution_count": null,
   "metadata": {},
   "outputs": [],
   "source": [
    "# Logistic Regression\n",
    "model = LogisticRegression()\n",
    "model.fit(train_X, train_y)\n",
    "prediction = model.predict(test_X)\n",
    "print('The accuracy of Logistic Regression is: ', metrics.accuracy_score(prediction, test_y))"
   ]
  },
  {
   "cell_type": "code",
   "execution_count": null,
   "metadata": {},
   "outputs": [],
   "source": [
    "#Decision Tree\n",
    "model = DecisionTreeClassifier()\n",
    "model.fit(train_X, train_y)\n",
    "prediction = model.predict(test_X)\n",
    "print('The accuracy of Decision Tree is: ', metrics.accuracy_score(prediction, test_y))\n",
    "# other way\n",
    "model.score(test_X , test_y)"
   ]
  },
  {
   "cell_type": "code",
   "execution_count": null,
   "metadata": {},
   "outputs": [],
   "source": [
    "# K-Nearest Neighbors\n",
    "model = KNeighborsClassifier(n_neighbors=3) # this examines 3 neighbors for putting the data into class\n",
    "model.fit(train_X, train_y)\n",
    "prediction = model.predict(test_X)\n",
    "print('The accuracy of KNN is: ', metrics.accuracy_score(prediction, test_y))"
   ]
  },
  {
   "cell_type": "code",
   "execution_count": null,
   "metadata": {},
   "outputs": [],
   "source": [
    "#Let's check the accuracy for various values of n for K-Nearest nerighbours\n",
    "a_index = list(range(1,11))\n",
    "a = pd.Series()\n",
    "for i in list(range(1,11)):\n",
    "    model = KNeighborsClassifier(n_neighbors=i)\n",
    "    model.fit(train_X, train_y)\n",
    "    prediction = model.predict(test_X)\n",
    "    a = a.append(pd.Series(metrics.accuracy_score(prediction, test_y)))\n",
    "plt.plot(a_index, a)\n",
    "x = [1,2,3,4,5,6,7,8,9,10]\n",
    "plt.xticks(x)"
   ]
  },
  {
   "cell_type": "code",
   "execution_count": null,
   "metadata": {},
   "outputs": [],
   "source": [
    "# We used all the features of iris in above models. Now we will use Petals and Sepals Seperately\n",
    "# Creating Petals And Sepals Training Data\n",
    "petal = iris[['PetalLengthCm','PetalWidthCm','Species']]\n",
    "sepal = iris[['SepalLengthCm','SepalWidthCm','Species']]"
   ]
  },
  {
   "cell_type": "code",
   "execution_count": null,
   "metadata": {},
   "outputs": [],
   "source": [
    "\n",
    "#For Iris Petal\n",
    "\n",
    "train_p,test_p = train_test_split(petal, test_size=0.3, random_state=0) #petals\n",
    "train_x_p = train_p[['PetalWidthCm','PetalLengthCm']]\n",
    "train_y_p = train_p.Species\n",
    "\n",
    "test_x_p = test_p[['PetalWidthCm','PetalLengthCm']]\n",
    "test_y_p = test_p.Species"
   ]
  },
  {
   "cell_type": "code",
   "execution_count": null,
   "metadata": {},
   "outputs": [],
   "source": [
    "\n",
    "#For Iris Sepal\n",
    "\n",
    "train_s,test_s = train_test_split(sepal, test_size=0.3, random_state=0) #sepals\n",
    "train_x_s = train_s[['SepalWidthCm','SepalLengthCm']]\n",
    "train_y_s = train_s.Species\n",
    "\n",
    "test_x_s = test_s[['SepalWidthCm','SepalLengthCm']]\n",
    "test_y_s = test_s.Species\n"
   ]
  },
  {
   "cell_type": "code",
   "execution_count": null,
   "metadata": {},
   "outputs": [],
   "source": [
    "#SVM Algorithm\n",
    "model=svm.SVC()\n",
    "model.fit(train_x_p,train_y_p) \n",
    "prediction=model.predict(test_x_p) \n",
    "print('The accuracy of the SVM using Petals is:',metrics.accuracy_score(prediction,test_y_p))\n",
    "\n",
    "model=svm.SVC()\n",
    "model.fit(train_x_s,train_y_s) \n",
    "prediction=model.predict(test_x_s) \n",
    "print('The accuracy of the SVM using Sepals is:',metrics.accuracy_score(prediction,test_y_s))"
   ]
  },
  {
   "cell_type": "code",
   "execution_count": null,
   "metadata": {},
   "outputs": [],
   "source": [
    "#Logistic Regression\n",
    "model = LogisticRegression()\n",
    "model.fit(train_x_p,train_y_p) \n",
    "prediction=model.predict(test_x_p) \n",
    "print('The accuracy of the Logistic Regression using Petals is:',metrics.accuracy_score(prediction,test_y_p))\n",
    "\n",
    "model.fit(train_x_s,train_y_s) \n",
    "prediction=model.predict(test_x_s) \n",
    "print('The accuracy of the Logistic Regression using Sepals is:',metrics.accuracy_score(prediction,test_y_s))"
   ]
  },
  {
   "cell_type": "code",
   "execution_count": null,
   "metadata": {},
   "outputs": [],
   "source": [
    "#Decision Tree\n",
    "\n",
    "model=DecisionTreeClassifier()\n",
    "model.fit(train_x_p,train_y_p) \n",
    "prediction=model.predict(test_x_p) \n",
    "print('The accuracy of the Decision Tree using Petals is:',metrics.accuracy_score(prediction,test_y_p))\n",
    "\n",
    "model.fit(train_x_s,train_y_s) \n",
    "prediction=model.predict(test_x_s) \n",
    "print('The accuracy of the Decision Tree using Sepals is:',metrics.accuracy_score(prediction,test_y_s))"
   ]
  },
  {
   "cell_type": "code",
   "execution_count": null,
   "metadata": {},
   "outputs": [],
   "source": [
    "#K-Nearest Neighbors\n",
    "model=KNeighborsClassifier(n_neighbors=3) \n",
    "model.fit(train_x_p,train_y_p) \n",
    "prediction=model.predict(test_x_p) \n",
    "print('The accuracy of the KNN using Petals is:',metrics.accuracy_score(prediction,test_y_p))\n",
    "\n",
    "model.fit(train_x_s,train_y_s) \n",
    "prediction=model.predict(test_x_s) \n",
    "print('The accuracy of the KNN using Sepals is:',metrics.accuracy_score(prediction,test_y_s))\n"
   ]
  },
  {
   "cell_type": "code",
   "execution_count": null,
   "metadata": {},
   "outputs": [],
   "source": [
    "\n",
    "Observations:\n",
    "\n",
    "    Using Petals over Sepal for training the data gives a much better accuracy.\n",
    "    This was expected as we saw in the heatmap above that the correlation between the Sepal Width and Length \n",
    "    as very low whereas the correlation between Petal Width and Length was very high.\n",
    "\n"
   ]
  },
  {
   "cell_type": "code",
   "execution_count": 50,
   "metadata": {},
   "outputs": [
    {
     "data": {
      "text/plain": [
       "(array([  5.,   6.,  33.,   0.,  79., 214.,   0., 322., 256.,  85.]),\n",
       " array([0.81578947, 0.83421053, 0.85263158, 0.87105263, 0.88947368,\n",
       "        0.90789474, 0.92631579, 0.94473684, 0.96315789, 0.98157895,\n",
       "        1.        ]),\n",
       " <a list of 10 Patch objects>)"
      ]
     },
     "execution_count": 50,
     "metadata": {},
     "output_type": "execute_result"
    },
    {
     "data": {
      "image/png": "[encoded data removed]",
      "text/plain": [
       "<Figure size 432x288 with 1 Axes>"
      ]
     },
     "metadata": {},
     "output_type": "display_data"
    }
   ],
   "source": [
    "# Part II - Refine model\n",
    "#However, there's a catch: Depending on how our training and testing set was sampled, \n",
    "#our model can achieve anywhere from 80% to 100% accuracy:\n",
    "\n",
    "# *** First : to get numeric values from iris db \n",
    "all_inputs = iris[['SepalLengthCm', 'SepalWidthCm',\n",
    "                             'PetalLengthCm', 'PetalWidthCm']].values \n",
    "\n",
    "all_labels = iris['Species'].values\n",
    "\n",
    "model_accuracies = []\n",
    "\n",
    "for repetition in range(1000):\n",
    "    (train_X ,\n",
    "     test_X,\n",
    "     train_Y,\n",
    "     test_Y ) = train_test_split(all_inputs, all_labels, test_size=0.25)\n",
    "    \n",
    "    decision_tree_classifier = DecisionTreeClassifier()\n",
    "    decision_tree_classifier.fit(train_X,  train_Y )\n",
    "    classifier_accuracy = decision_tree_classifier.score(test_X, test_Y)\n",
    "    model_accuracies.append(classifier_accuracy)\n",
    "    \n",
    "plt.hist(model_accuracies)\n"
   ]
  },
  {
   "cell_type": "code",
   "execution_count": null,
   "metadata": {},
   "outputs": [],
   "source": [
    "\n",
    "It's obviously a problem that our model performs quite differently depending on the subset of the data it's trained on. \n",
    "This phenomenon is known as overfitting:\n",
    "The model is learning to classify the training set so well that it doesn't generalize and perform well on data \n",
    "it hasn't seen before.\n",
    "\n"
   ]
  },
  {
   "cell_type": "code",
   "execution_count": null,
   "metadata": {},
   "outputs": [],
   "source": [
    "# Cross-validation\n",
    "This problem is the main reason that most data scientists perform k-fold cross-validation on their models: \n",
    "Split the original data set into k subsets, use one of the subsets as the testing set, and the rest of the \n",
    "subsets are used as the training set. \n",
    "This process is then repeated k times such that each subset is used as the testing set exactly once.\n",
    "\n",
    "10-fold cross-validation is the most common choice, so let's use that here."
   ]
  },
  {
   "cell_type": "code",
   "execution_count": 51,
   "metadata": {},
   "outputs": [
    {
     "data": {
      "image/png": "[encoded data removed]",
      "text/plain": [
       "<Figure size 1080x1080 with 1 Axes>"
      ]
     },
     "metadata": {},
     "output_type": "display_data"
    }
   ],
   "source": [
    "import numpy as np\n",
    "from sklearn.model_selection import StratifiedKFold\n",
    "\n",
    "def plot_cv(cv, features, labels):\n",
    "    masks = []\n",
    "    for train, test in cv.split(features, labels):\n",
    "        mask = np.zeros(len(labels), dtype=bool)\n",
    "        mask[test] = 1\n",
    "        masks.append(mask)\n",
    "    \n",
    "    plt.figure(figsize=(15, 15))\n",
    "    plt.imshow(masks, interpolation='none', cmap='gray_r')\n",
    "    plt.ylabel('Fold')\n",
    "    plt.xlabel('Row #')\n",
    "\n",
    "plot_cv(StratifiedKFold(n_splits=10), all_inputs, all_labels)"
   ]
  },
  {
   "cell_type": "code",
   "execution_count": 52,
   "metadata": {},
   "outputs": [
    {
     "data": {
      "text/plain": [
       "Text(0.5,1,'Average score: 0.9533333333333334')"
      ]
     },
     "execution_count": 52,
     "metadata": {},
     "output_type": "execute_result"
    },
    {
     "data": {
      "image/png": "[encoded data removed]",
      "text/plain": [
       "<Figure size 432x288 with 1 Axes>"
      ]
     },
     "metadata": {},
     "output_type": "display_data"
    }
   ],
   "source": [
    "# We can perform 10-fold cross-validation on our model with the following code:\n",
    "\n",
    "\n",
    "\n",
    "from sklearn.model_selection import cross_val_score\n",
    "\n",
    "decision_tree_classifier = DecisionTreeClassifier()\n",
    "\n",
    "# cross_val_score returns a list of the scores, which we can visualize\n",
    "# to get a reasonable estimate of our classifier's performance\n",
    "cv_scores = cross_val_score(decision_tree_classifier, all_inputs, all_labels, cv=10)\n",
    "plt.hist(cv_scores)\n",
    "plt.title('Average score: {}'.format(np.mean(cv_scores)))"
   ]
  },
  {
   "cell_type": "code",
   "execution_count": 53,
   "metadata": {},
   "outputs": [
    {
     "data": {
      "text/plain": [
       "''"
      ]
     },
     "execution_count": 53,
     "metadata": {},
     "output_type": "execute_result"
    },
    {
     "data": {
      "image/png": "[encoded data removed]",
      "text/plain": [
       "<Figure size 432x288 with 1 Axes>"
      ]
     },
     "metadata": {},
     "output_type": "display_data"
    }
   ],
   "source": [
    "#Now we have a much more consistent rating of our classifier's general classification accuracy.\n",
    "\n",
    "# Parameter tuning \n",
    "# For example, if we severely limit the depth of our decision tree classifier:\n",
    "\n",
    "decision_tree_classifier = DecisionTreeClassifier(max_depth=1)\n",
    "\n",
    "cv_scores = cross_val_score(decision_tree_classifier, all_inputs, all_labels, cv=10)\n",
    "plt.hist(cv_scores)\n",
    "plt.title('Average score: {}'.format(np.mean(cv_scores)))\n",
    ";\n",
    "\n"
   ]
  },
  {
   "cell_type": "code",
   "execution_count": null,
   "metadata": {},
   "outputs": [],
   "source": [
    "#Therefore, we need to find a systematic method to discover the best parameters for our model and data set.\n",
    "\n",
    "# The most common method for model parameter tuning is Grid Search.\n",
    "# The idea behind Grid Search is simple: explore a range of parameters and find the best-performing parameter combination\n",
    "# We'll stick to only two parameters for now, but it's possible to simultaneously explore dozens of parameters if we want."
   ]
  },
  {
   "cell_type": "code",
   "execution_count": 54,
   "metadata": {},
   "outputs": [
    {
     "name": "stdout",
     "output_type": "stream",
     "text": [
      "Best score: 0.9666666666666667\n",
      "Best parameters: {'max_depth': 3, 'max_features': 2}\n"
     ]
    }
   ],
   "source": [
    "from sklearn.model_selection import GridSearchCV\n",
    "\n",
    "decision_tree_classifier = DecisionTreeClassifier()\n",
    "\n",
    "parameter_grid = {'max_depth': [1, 2, 3, 4, 5],\n",
    "                  'max_features': [1, 2, 3, 4]}\n",
    "\n",
    "cross_validation = StratifiedKFold(n_splits=10)\n",
    "\n",
    "grid_search = GridSearchCV(decision_tree_classifier,\n",
    "                           param_grid=parameter_grid,\n",
    "                           cv=cross_validation)\n",
    "\n",
    "grid_search.fit(all_inputs, all_labels)\n",
    "print('Best score: {}'.format(grid_search.best_score_))\n",
    "print('Best parameters: {}'.format(grid_search.best_params_))"
   ]
  },
  {
   "cell_type": "code",
   "execution_count": 56,
   "metadata": {},
   "outputs": [
    {
     "data": {
      "text/plain": [
       "''"
      ]
     },
     "execution_count": 56,
     "metadata": {},
     "output_type": "execute_result"
    },
    {
     "data": {
      "image/png": "[encoded data removed]",
      "text/plain": [
       "<Figure size 432x288 with 2 Axes>"
      ]
     },
     "metadata": {},
     "output_type": "display_data"
    }
   ],
   "source": [
    "# Now let's visualize the grid search to see how the parameters interact.\n",
    "grid_visualization = grid_search.cv_results_['mean_test_score']\n",
    "grid_visualization.shape = (5, 4)\n",
    "sns.heatmap(grid_visualization, cmap='Blues', annot=True)\n",
    "plt.xticks(np.arange(4) + 0.5, grid_search.param_grid['max_features'])\n",
    "plt.yticks(np.arange(5) + 0.5, grid_search.param_grid['max_depth'])\n",
    "plt.xlabel('max_features')\n",
    "plt.ylabel('max_depth')\n",
    ";"
   ]
  },
  {
   "cell_type": "code",
   "execution_count": 57,
   "metadata": {},
   "outputs": [
    {
     "name": "stdout",
     "output_type": "stream",
     "text": [
      "Best score: 0.96\n",
      "Best parameters: {'criterion': 'gini', 'max_depth': 3, 'max_features': 4, 'splitter': 'best'}\n"
     ]
    }
   ],
   "source": [
    "#Let's go ahead and use a broad grid search to find the best settings for a handful of parameters.\n",
    "decision_tree_classifier = DecisionTreeClassifier()\n",
    "\n",
    "parameter_grid = {'criterion': ['gini', 'entropy'],\n",
    "                  'splitter': ['best', 'random'],\n",
    "                  'max_depth': [1, 2, 3, 4, 5],\n",
    "                  'max_features': [1, 2, 3, 4]}\n",
    "\n",
    "cross_validation = StratifiedKFold(n_splits=10)\n",
    "\n",
    "grid_search = GridSearchCV(decision_tree_classifier,\n",
    "                           param_grid=parameter_grid,\n",
    "                           cv=cross_validation)\n",
    "\n",
    "grid_search.fit(all_inputs, all_labels)\n",
    "print('Best score: {}'.format(grid_search.best_score_))\n",
    "print('Best parameters: {}'.format(grid_search.best_params_))"
   ]
  },
  {
   "cell_type": "code",
   "execution_count": 58,
   "metadata": {},
   "outputs": [
    {
     "data": {
      "text/plain": [
       "DecisionTreeClassifier(class_weight=None, criterion='gini', max_depth=3,\n",
       "            max_features=4, max_leaf_nodes=None, min_impurity_decrease=0.0,\n",
       "            min_impurity_split=None, min_samples_leaf=1,\n",
       "            min_samples_split=2, min_weight_fraction_leaf=0.0,\n",
       "            presort=False, random_state=None, splitter='best')"
      ]
     },
     "execution_count": 58,
     "metadata": {},
     "output_type": "execute_result"
    }
   ],
   "source": [
    "#Now we can take the best classifier from the Grid Search and use that:\n",
    "decision_tree_classifier = grid_search.best_estimator_\n",
    "decision_tree_classifier"
   ]
  },
  {
   "cell_type": "markdown",
   "metadata": {},
   "source": [
    "#We can even visualize the decision tree with GraphViz to see how it's making the classifications:\n",
    "import sklearn.tree as tree\n",
    "from sklearn.externals.six import StringIO\n",
    "\n",
    "with open('iris_dtc.dot', 'w') as out_file:\n",
    "    out_file = tree.export_graphviz(decision_tree_classifier, out_file=out_file)\n",
    "    # file in donwload directory"
   ]
  },
  {
   "cell_type": "code",
   "execution_count": 62,
   "metadata": {},
   "outputs": [
    {
     "data": {
      "text/plain": [
       "''"
      ]
     },
     "execution_count": 62,
     "metadata": {},
     "output_type": "execute_result"
    },
    {
     "data": {
      "image/png": "[encoded data removed]",
      "text/plain": [
       "<Figure size 432x288 with 1 Axes>"
      ]
     },
     "metadata": {},
     "output_type": "display_data"
    }
   ],
   "source": [
    "dt_scores = cross_val_score(decision_tree_classifier, all_inputs, all_labels, cv=10)\n",
    "\n",
    "sns.boxplot(dt_scores)\n",
    "sns.stripplot(dt_scores, jitter=True, color='black')\n",
    ";\n"
   ]
  },
  {
   "cell_type": "code",
   "execution_count": null,
   "metadata": {},
   "outputs": [],
   "source": [
    "#Random Forest classifiers work around that limitation by creating a whole bunch of decision trees (hence \"forest\")\n",
    "#— each trained on random subsets of training samples (drawn with replacement) and features (drawn without replacement)\n",
    "#— and have the decision trees work together to make a more accurate classification."
   ]
  },
  {
   "cell_type": "code",
   "execution_count": 63,
   "metadata": {},
   "outputs": [
    {
     "name": "stdout",
     "output_type": "stream",
     "text": [
      "Best score: 0.9666666666666667\n",
      "Best parameters: {'criterion': 'gini', 'max_features': 2, 'n_estimators': 25}\n"
     ]
    },
    {
     "data": {
      "text/plain": [
       "RandomForestClassifier(bootstrap=True, class_weight=None, criterion='gini',\n",
       "            max_depth=None, max_features=2, max_leaf_nodes=None,\n",
       "            min_impurity_decrease=0.0, min_impurity_split=None,\n",
       "            min_samples_leaf=1, min_samples_split=2,\n",
       "            min_weight_fraction_leaf=0.0, n_estimators=25, n_jobs=1,\n",
       "            oob_score=False, random_state=None, verbose=0,\n",
       "            warm_start=False)"
      ]
     },
     "execution_count": 63,
     "metadata": {},
     "output_type": "execute_result"
    }
   ],
   "source": [
    "\n",
    "from sklearn.ensemble import RandomForestClassifier\n",
    "\n",
    "random_forest_classifier = RandomForestClassifier()\n",
    "\n",
    "parameter_grid = {'n_estimators': [10, 25, 50, 100],\n",
    "                  'criterion': ['gini', 'entropy'],\n",
    "                  'max_features': [1, 2, 3, 4]}\n",
    "\n",
    "cross_validation = StratifiedKFold(n_splits=10)\n",
    "\n",
    "grid_search = GridSearchCV(random_forest_classifier,\n",
    "                           param_grid=parameter_grid,\n",
    "                           cv=cross_validation)\n",
    "\n",
    "grid_search.fit(all_inputs, all_labels)\n",
    "print('Best score: {}'.format(grid_search.best_score_))\n",
    "print('Best parameters: {}'.format(grid_search.best_params_))\n",
    "\n",
    "grid_search.best_estimator_\n",
    "\n"
   ]
  },
  {
   "cell_type": "code",
   "execution_count": 64,
   "metadata": {},
   "outputs": [
    {
     "data": {
      "text/plain": [
       "<matplotlib.axes._subplots.AxesSubplot at 0x7efdcce4a9b0>"
      ]
     },
     "execution_count": 64,
     "metadata": {},
     "output_type": "execute_result"
    },
    {
     "data": {
      "image/png": "[encoded data removed]",
      "text/plain": [
       "<Figure size 432x288 with 1 Axes>"
      ]
     },
     "metadata": {},
     "output_type": "display_data"
    }
   ],
   "source": [
    "# Compare methods performance\n",
    "\n",
    "\n",
    "random_forest_classifier = grid_search.best_estimator_\n",
    "\n",
    "rf_df = pd.DataFrame({'accuracy': cross_val_score(random_forest_classifier, all_inputs, all_labels, cv=10),\n",
    "                       'classifier': ['Random Forest'] * 10})\n",
    "dt_df = pd.DataFrame({'accuracy': cross_val_score(decision_tree_classifier, all_inputs, all_labels, cv=10),\n",
    "                      'classifier': ['Decision Tree'] * 10})\n",
    "both_df = rf_df.append(dt_df)\n",
    "\n",
    "sns.boxplot(x='classifier', y='accuracy', data=both_df)\n",
    "sns.stripplot(x='classifier', y='accuracy', data=both_df, jitter=True, color='black')"
   ]
  },
  {
   "cell_type": "code",
   "execution_count": null,
   "metadata": {},
   "outputs": [],
   "source": [
    "# How about that? They both seem to perform about the same on this data set. \n",
    "# This is probably because of the limitations of our data set: We have only 4 features to make the classification, \n",
    "# and Random Forest classifiers excel when there's hundreds of possible features to look at. \n",
    "# In other words, there wasn't much room for improvement with this data set."
   ]
  },
  {
   "cell_type": "markdown",
   "metadata": {},
   "source": [
    "THIS IS A TEST FOR MAKDOWN TEXT COMMENT OR TITLE\n",
    "XXXXXXXXXXXXX\n",
    "YYYYYYYYYYYYYYY"
   ]
  },
  {
   "cell_type": "code",
   "execution_count": null,
   "metadata": {},
   "outputs": [],
   "source": []
  }
 ],
 "metadata": {
  "kernelspec": {
   "display_name": "Python 3",
   "language": "python",
   "name": "python3"
  },
  "language_info": {
   "codemirror_mode": {
    "name": "ipython",
    "version": 3
   },
   "file_extension": ".py",
   "mimetype": "text/x-python",
   "name": "python",
   "nbconvert_exporter": "python",
   "pygments_lexer": "ipython3",
   "version": "3.7.0"
  }
 },
 "nbformat": 4,
 "nbformat_minor": 2
}
