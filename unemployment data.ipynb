{
    "cells": [
        {
            "cell_type": "code",
            "execution_count": 1,
            "metadata": {},
            "outputs": [
                {
                    "data": {
                        "text/html": "<div>\n<style scoped>\n    .dataframe tbody tr th:only-of-type {\n        vertical-align: middle;\n    }\n\n    .dataframe tbody tr th {\n        vertical-align: top;\n    }\n\n    .dataframe thead th {\n        text-align: right;\n    }\n</style>\n<table border=\"1\" class=\"dataframe\">\n  <thead>\n    <tr style=\"text-align: right;\">\n      <th></th>\n      <th>Rank</th>\n      <th>Country</th>\n      <th>(%)</th>\n      <th>Date of Information</th>\n    </tr>\n  </thead>\n  <tbody>\n    <tr>\n      <th>0</th>\n      <td>1</td>\n      <td>Cambodia</td>\n      <td>0.0</td>\n      <td>2011 est.</td>\n    </tr>\n    <tr>\n      <th>1</th>\n      <td>2</td>\n      <td>Qatar</td>\n      <td>0.4</td>\n      <td>2014 est.</td>\n    </tr>\n    <tr>\n      <th>2</th>\n      <td>3</td>\n      <td>Guernsey</td>\n      <td>0.9</td>\n      <td>March 2006 est.</td>\n    </tr>\n    <tr>\n      <th>3</th>\n      <td>4</td>\n      <td>Thailand</td>\n      <td>1.0</td>\n      <td>2014 est.</td>\n    </tr>\n    <tr>\n      <th>4</th>\n      <td>5</td>\n      <td>Belarus</td>\n      <td>1.0</td>\n      <td>2009 est.</td>\n    </tr>\n  </tbody>\n</table>\n</div>",
                        "text/plain": "   Rank   Country  (%) Date of Information\n0     1  Cambodia  0.0           2011 est.\n1     2     Qatar  0.4           2014 est.\n2     3  Guernsey  0.9     March 2006 est.\n3     4  Thailand  1.0           2014 est.\n4     5   Belarus  1.0           2009 est."
                    },
                    "execution_count": 1,
                    "metadata": {},
                    "output_type": "execute_result"
                }
            ],
            "source": "# The code was removed by Watson Studio for sharing."
        }
    ],
    "metadata": {
        "kernelspec": {
            "display_name": "Python 3.6",
            "language": "python",
            "name": "python3"
        },
        "language_info": {
            "codemirror_mode": {
                "name": "ipython",
                "version": 3
            },
            "file_extension": ".py",
            "mimetype": "text/x-python",
            "name": "python",
            "nbconvert_exporter": "python",
            "pygments_lexer": "ipython3",
            "version": "3.6.9"
        }
    },
    "nbformat": 4,
    "nbformat_minor": 1
}